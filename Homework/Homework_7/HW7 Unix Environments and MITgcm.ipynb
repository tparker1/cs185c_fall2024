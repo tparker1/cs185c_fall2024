{
 "cells": [
  {
   "cell_type": "markdown",
   "id": "ae587e5d-ad7d-42ad-9ca7-d064e2ef5f2f",
   "metadata": {},
   "source": [
    "# Homework 7: Unix Environments and MITgcm\n",
    "\n",
    "Name: Tara Parker   \n",
    "\n",
    "Date: Oct 08\n",
    "\n",
    "#### Overview\n",
    "In this homework, you will install a Fortran compiler, download a recent version of the MIT General Circulation Model source code, and compile a verification model experiment."
   ]
  },
  {
   "cell_type": "markdown",
   "id": "8926c19c-ad19-419b-b2d9-6f7a1f7f8989",
   "metadata": {},
   "source": [
    "### Part 1: Download a Compiler\n",
    "To start this homework, begin by installing a Fortran compiler on your machine by following the instructions [HERE](https://profmikewood.github.io/ocean_modeling_book/getting_started/installing_compiler_and_mpi.html). Note that there are different installation instructions depending on whether your machine is a Mac or a PC. You do not need to complete the portion for using MPI at this time.\n",
    "\n",
    "When your download is complete, edit the following cell to outline which option you chose."
   ]
  },
  {
   "cell_type": "markdown",
   "id": "a152172a",
   "metadata": {},
   "source": [
    "<!-- # change this cell to a markdown cell and update the following sentence:\n",
    "# \"I am using a XX machine with the XX operation system. I downloaded the XX fortran compiler. -->\n",
    "\n",
    "# I am using a __Personal Desktop Computing__ machine with the __Ubuntu__ operation system. I downloaded the __gfortran__ fortran compiler"
   ]
  },
  {
   "cell_type": "markdown",
   "id": "1cb79dc8-5d71-4126-b851-3af0c3a44027",
   "metadata": {},
   "source": [
    "### Part 2: Unix Commands\n",
    "Answer the following questions about Unix commands and their output on your machine. When you enter your Unix commands below, you can make a markdown code block using three ` symbols as follows:\n",
    "\n",
    "```\n",
    "unix code\n",
    "```"
   ]
  },
  {
   "cell_type": "markdown",
   "id": "520ecb33",
   "metadata": {},
   "source": [
    "Question 2.1: What is the path to your home directory? Enter the command you use to identify this directory and list the path."
   ]
  },
  {
   "cell_type": "markdown",
   "id": "54374f6a",
   "metadata": {},
   "source": [
    "```\n",
    "echo $HOME\n",
    "\n",
    "/home/tara\n",
    "```"
   ]
  },
  {
   "cell_type": "markdown",
   "id": "c98714f6",
   "metadata": {},
   "source": [
    "Question 2.2: What is your default \"profile script\" on your machine? What command can you use to list the hidden files in your home directory?"
   ]
  },
  {
   "cell_type": "markdown",
   "id": "4ab552d6",
   "metadata": {},
   "source": [
    "```\n",
    "~/.bashrc\n",
    "\n",
    "ls -a ~\n",
    "```"
   ]
  },
  {
   "cell_type": "markdown",
   "id": "7ff6aefc",
   "metadata": {},
   "source": [
    "Question 2.3: Change your directory to the folder that you use to store files for this CS 185C class. Enter the commands you entered to move to this directory."
   ]
  },
  {
   "cell_type": "markdown",
   "id": "b4713103",
   "metadata": {},
   "source": [
    "```\n",
    "cd Documents/SJSU/CS_185C/\n",
    "```"
   ]
  },
  {
   "cell_type": "markdown",
   "id": "a7dca3ed",
   "metadata": {},
   "source": [
    "### Part 3: MITgcm\n",
    "In this section, you will download a recent version of MITgcm. In your CS 185C directory, run the following command:\n",
    "\n",
    "```\n",
    "git clone https://github.com/MITgcm/MITgcm.git\n",
    "```\n",
    "\n",
    "This will clone the MITgcm code into your CS 185C repository next to other directories you have e.g. homework, project, etc. When your clone is complete, change directories into the MITgcm directory."
   ]
  },
  {
   "cell_type": "markdown",
   "id": "db1bc848-211a-476b-91e0-f8c9826341cd",
   "metadata": {},
   "source": [
    "The model source code is listed in the `model/src` directory. Enter a Unix command to list all of the files in this directory. Then, based on the file names, identify one script that aligns with a topic we have covered so far in CS 185C. What do you suppose this script will do in the model?"
   ]
  },
  {
   "cell_type": "markdown",
   "id": "1ccaad82",
   "metadata": {},
   "source": [
    "```\n",
    "cd MITgcm\n",
    "\n",
    "ls -la ./model/src\n",
    "```\n",
    "\n",
    "calc_adv_flow.F looks like it would contain code to calculate the advection. \n",
    "\n",
    "On inspection of the the file, we find:\n",
    "\n",
    "```\n",
    "C     *==========================================================*\n",
    "C     | SUBROUTINE CALC_ADV_FLOW\n",
    "C     | o Calculate common data (such as volume flux) for use\n",
    "C     |   by \"Right hand side\" subroutines.\n",
    "C     *==========================================================*\n",
    "C     | Here, we calculate terms or spatially varying factors\n",
    "C     | that are used at various points in the \"RHS\" subroutines.\n",
    "C     | This reduces the amount of total work, total memory\n",
    "C     | and therefore execution time and is generally a good\n",
    "C     | idea.\n",
    "C     *==========================================================*\n",
    "```"
   ]
  },
  {
   "cell_type": "markdown",
   "id": "775df175",
   "metadata": {},
   "source": [
    "### Part 4: Compile a Model Tutorial"
   ]
  },
  {
   "cell_type": "markdown",
   "id": "1e2c4b43",
   "metadata": {},
   "source": [
    "Next, change your directory to the the `verification/tutorial_barotropic_gyre` directory and follow the instructions to compile a model *without* MPI [HERE](https://profmikewood.github.io/ocean_modeling_book/mitgcm/getting_started_with_MITgcm.html#compiling-without-mpi) for the barotropic gyre verification experiment.\n",
    "\n",
    "Note that you will need to identify the \"optfile\" for your machine. Notes on identifying this file are [HERE](https://profmikewood.github.io/ocean_modeling_book/mitgcm/choosing_an_optfile.html).\n",
    "\n",
    "When the compilation is complete, you should see the `mitgcmuv` (or `mitgcmuv.exe`) file in your `build` directory. Enter the command below you used to verify this file exists."
   ]
  },
  {
   "cell_type": "markdown",
   "id": "656f201a",
   "metadata": {},
   "source": [
    "```\n",
    "ls -a ./mit*\n",
    "```"
   ]
  },
  {
   "cell_type": "markdown",
   "id": "6f1d01cb",
   "metadata": {},
   "source": [
    "If your compilation is successful - woohoo! We'll work on running the model and assessing the output in class after this homework is due."
   ]
  }
 ],
 "metadata": {
  "kernelspec": {
   "display_name": "Python 3 (ipykernel)",
   "language": "python",
   "name": "python3"
  },
  "language_info": {
   "codemirror_mode": {
    "name": "ipython",
    "version": 3
   },
   "file_extension": ".py",
   "mimetype": "text/x-python",
   "name": "python",
   "nbconvert_exporter": "python",
   "pygments_lexer": "ipython3",
   "version": "3.11.9"
  }
 },
 "nbformat": 4,
 "nbformat_minor": 5
}
